{
 "cells": [
  {
   "cell_type": "code",
   "execution_count": 8,
   "id": "56804aa5",
   "metadata": {
    "pycharm": {
     "name": "#%%\n"
    }
   },
   "outputs": [],
   "source": [
    "import pandas as pd\n",
    "import torch\n",
    "import numpy as np\n",
    "from tqdm import tqdm\n",
    "import seaborn as sns\n",
    "import matplotlib.pyplot as plt"
   ]
  },
  {
   "cell_type": "code",
   "execution_count": 9,
   "id": "6b310dcf",
   "metadata": {
    "pycharm": {
     "name": "#%%\n"
    }
   },
   "outputs": [
    {
     "data": {
      "text/html": [
       "<div>\n",
       "<style scoped>\n",
       "    .dataframe tbody tr th:only-of-type {\n",
       "        vertical-align: middle;\n",
       "    }\n",
       "\n",
       "    .dataframe tbody tr th {\n",
       "        vertical-align: top;\n",
       "    }\n",
       "\n",
       "    .dataframe thead th {\n",
       "        text-align: right;\n",
       "    }\n",
       "</style>\n",
       "<table border=\"1\" class=\"dataframe\">\n",
       "  <thead>\n",
       "    <tr style=\"text-align: right;\">\n",
       "      <th></th>\n",
       "      <th>y</th>\n",
       "      <th>N</th>\n",
       "      <th>i</th>\n",
       "      <th>d</th>\n",
       "      <th>K</th>\n",
       "      <th>x</th>\n",
       "    </tr>\n",
       "  </thead>\n",
       "  <tbody>\n",
       "    <tr>\n",
       "      <th>0</th>\n",
       "      <td>0.196</td>\n",
       "      <td>4404</td>\n",
       "      <td>1</td>\n",
       "      <td>0</td>\n",
       "      <td>2</td>\n",
       "      <td>2</td>\n",
       "    </tr>\n",
       "    <tr>\n",
       "      <th>1</th>\n",
       "      <td>0.120</td>\n",
       "      <td>4404</td>\n",
       "      <td>1</td>\n",
       "      <td>0</td>\n",
       "      <td>2</td>\n",
       "      <td>2</td>\n",
       "    </tr>\n",
       "    <tr>\n",
       "      <th>2</th>\n",
       "      <td>0.102</td>\n",
       "      <td>4404</td>\n",
       "      <td>1</td>\n",
       "      <td>0</td>\n",
       "      <td>2</td>\n",
       "      <td>2</td>\n",
       "    </tr>\n",
       "    <tr>\n",
       "      <th>3</th>\n",
       "      <td>0.284</td>\n",
       "      <td>4404</td>\n",
       "      <td>1</td>\n",
       "      <td>0</td>\n",
       "      <td>2</td>\n",
       "      <td>2</td>\n",
       "    </tr>\n",
       "    <tr>\n",
       "      <th>4</th>\n",
       "      <td>0.075</td>\n",
       "      <td>4404</td>\n",
       "      <td>1</td>\n",
       "      <td>0</td>\n",
       "      <td>2</td>\n",
       "      <td>2</td>\n",
       "    </tr>\n",
       "    <tr>\n",
       "      <th>...</th>\n",
       "      <td>...</td>\n",
       "      <td>...</td>\n",
       "      <td>...</td>\n",
       "      <td>...</td>\n",
       "      <td>...</td>\n",
       "      <td>...</td>\n",
       "    </tr>\n",
       "    <tr>\n",
       "      <th>4399</th>\n",
       "      <td>0.402</td>\n",
       "      <td>4404</td>\n",
       "      <td>1</td>\n",
       "      <td>1</td>\n",
       "      <td>2</td>\n",
       "      <td>1</td>\n",
       "    </tr>\n",
       "    <tr>\n",
       "      <th>4400</th>\n",
       "      <td>1.005</td>\n",
       "      <td>4404</td>\n",
       "      <td>1</td>\n",
       "      <td>1</td>\n",
       "      <td>2</td>\n",
       "      <td>1</td>\n",
       "    </tr>\n",
       "    <tr>\n",
       "      <th>4401</th>\n",
       "      <td>0.853</td>\n",
       "      <td>4404</td>\n",
       "      <td>0</td>\n",
       "      <td>0</td>\n",
       "      <td>2</td>\n",
       "      <td>1</td>\n",
       "    </tr>\n",
       "    <tr>\n",
       "      <th>4402</th>\n",
       "      <td>1.482</td>\n",
       "      <td>4404</td>\n",
       "      <td>0</td>\n",
       "      <td>0</td>\n",
       "      <td>2</td>\n",
       "      <td>1</td>\n",
       "    </tr>\n",
       "    <tr>\n",
       "      <th>4403</th>\n",
       "      <td>0.061</td>\n",
       "      <td>4404</td>\n",
       "      <td>0</td>\n",
       "      <td>0</td>\n",
       "      <td>2</td>\n",
       "      <td>1</td>\n",
       "    </tr>\n",
       "  </tbody>\n",
       "</table>\n",
       "<p>4404 rows × 6 columns</p>\n",
       "</div>"
      ],
      "text/plain": [
       "          y     N  i  d  K  x\n",
       "0     0.196  4404  1  0  2  2\n",
       "1     0.120  4404  1  0  2  2\n",
       "2     0.102  4404  1  0  2  2\n",
       "3     0.284  4404  1  0  2  2\n",
       "4     0.075  4404  1  0  2  2\n",
       "...     ...   ... .. .. .. ..\n",
       "4399  0.402  4404  1  1  2  1\n",
       "4400  1.005  4404  1  1  2  1\n",
       "4401  0.853  4404  0  0  2  1\n",
       "4402  1.482  4404  0  0  2  1\n",
       "4403  0.061  4404  0  0  2  1\n",
       "\n",
       "[4404 rows x 6 columns]"
      ]
     },
     "execution_count": 9,
     "metadata": {},
     "output_type": "execute_result"
    }
   ],
   "source": [
    "df = pd.read_csv(\"data/stan_data_covariates.csv\", index_col=0)\n",
    "df"
   ]
  },
  {
   "cell_type": "code",
   "execution_count": 11,
   "id": "6db5006e",
   "metadata": {
    "pycharm": {
     "name": "#%%\n"
    }
   },
   "outputs": [
    {
     "data": {
      "text/plain": [
       "<AxesSubplot:xlabel='y', ylabel='Count'>"
      ]
     },
     "execution_count": 11,
     "metadata": {},
     "output_type": "execute_result"
    },
    {
     "data": {
      "image/png": "[encoded data removed]",
      "text/plain": [
       "<Figure size 432x288 with 1 Axes>"
      ]
     },
     "metadata": {
      "image/png": {
       "height": 261,
       "width": 388
      },
      "needs_background": "light"
     },
     "output_type": "display_data"
    }
   ],
   "source": [
    "sns.histplot(df.y)"
   ]
  },
  {
   "cell_type": "code",
   "execution_count": 44,
   "id": "ebf5b5dc",
   "metadata": {
    "pycharm": {
     "name": "#%%\n"
    }
   },
   "outputs": [],
   "source": [
    "# stan_code = \"\"\"\n",
    "#         data {\n",
    "#             int<lower=0> N; // number of observations\n",
    "#             vector[N] y;    // observations (aggregated)\n",
    "#             vector[N] i;\n",
    "#             vector[N] d;\n",
    "#             int<lower=0> K; // number of groups (conditions)\n",
    "#             int<lower=1,upper=K> x[N]; // indicators for groups (conditions)\n",
    "#         }\n",
    "#         parameters {\n",
    "#             real<lower=0> alpha[K];        // pooled alpha (shape)\n",
    "#             real beta_0[K];\n",
    "#             real beta_i[K];\n",
    "#             real beta_d[K];\n",
    "#         }\n",
    "#         model {\n",
    "#             for (k in 1:K){\n",
    "#                 alpha[k] ~ normal(0, 10);\n",
    "#                 beta_0[k] ~ normal(0, 10);\n",
    "#                 beta_i[k] ~ normal(0, 10);\n",
    "#                 beta_d[k] ~ normal(0, 10);\n",
    "#             }\n",
    "\n",
    "#             for (n in 1:N){\n",
    "#                 y[n] ~ weibull(alpha[x[n]], exp(-(beta_0[x[n]] + beta_i[x[n]]*i[n] + beta_d[x[n]]*d[n])/alpha[x[n]]));  // likelihood / observation model\n",
    "#             }\n",
    "#         }\n",
    "\n",
    "#         generated quantities {\n",
    "#             vector[N] log_lik;\n",
    "#             vector[N] y_rep;\n",
    "#             int<lower = 0, upper = 1> mean_gt;\n",
    "#             int<lower = 0, upper = 1> sd_gt;\n",
    "#             for (n in 1:N){\n",
    "#                 log_lik[n] = weibull_lpdf(y[n] | alpha[x[n]], exp(-(beta_0[x[n]] + beta_i[x[n]]*i[n] + beta_d[x[n]]*d[n])/alpha[x[n]])); \n",
    "#                 y_rep[n] = weibull_rng(alpha[x[n]], exp(-(beta_0[x[n]] + beta_i[x[n]]*i[n] + beta_d[x[n]]*d[n])/alpha[x[n]]));\n",
    "#                 }\n",
    "#             mean_gt = mean(y_rep) > mean(y);\n",
    "#             sd_gt = sd(y_rep) > sd(y);\n",
    "#         }"
   ]
  },
  {
   "cell_type": "code",
   "execution_count": 45,
   "id": "8535d02e",
   "metadata": {
    "pycharm": {
     "name": "#%%\n"
    }
   },
   "outputs": [],
   "source": [
    "#K = 2  # Number of condition\n",
    "# y[n] ~ weibull(alpha[x[n]], exp(-(beta_0[x[n]] + beta_i[x[n]]*i[n] + beta_d[x[n]]*d[n])/alpha[x[n]]));  // likelihood / observation model\n",
    "#            }"
   ]
  },
  {
   "cell_type": "code",
   "execution_count": 91,
   "id": "a8069a2d",
   "metadata": {
    "pycharm": {
     "name": "#%%\n"
    }
   },
   "outputs": [],
   "source": [
    "class SimpleModel(torch.nn.Module):\n",
    "    def __init__(self):\n",
    "        super().__init__()\n",
    "        self.log_k = torch.nn.Parameter(torch.zeros(1))\n",
    "        self.log_lbda = torch.nn.Parameter(torch.zeros(1))\n",
    "#         self.mu_alpha = torch.nn.Parameter(torch.zeros(1))\n",
    "#         self.mu_beta_0 = torch.nn.Parameter(torch.zeros(1))\n",
    "#         self.mu_beta_i = torch.nn.Parameter(torch.zeros(1))\n",
    "#         self.mu_beta_d = torch.nn.Parameter(torch.zeros(1))\n",
    "        \n",
    "#         self.logvar_alpha = torch.nn.Parameter(torch.zeros(1))\n",
    "#         self.logvar_beta_0 = torch.nn.Parameter(torch.zeros(1))\n",
    "#         self.logvar_beta_i = torch.nn.Parameter(torch.zeros(1))\n",
    "#         self.logvar_beta_d = torch.nn.Parameter(torch.zeros(1))\n",
    "\n",
    "    def forward(self, i, d, y, n_sample=100):\n",
    "        \n",
    "#         eps = 1e-8\n",
    "        \n",
    "#         sd_alpha = torch.exp(0.5*self.logvar_alpha) + eps\n",
    "#         sd_beta_0 = torch.exp(0.5*self.logvar_beta_0) + eps\n",
    "#         sd_beta_i = torch.exp(0.5*self.logvar_beta_i) + eps\n",
    "#         sd_beta_d = torch.exp(0.5*self.logvar_beta_d) + eps\n",
    "        \n",
    "#         alpha = torch.randn(size=(n_sample, 1))*sd_alpha + self.mu_alpha\n",
    "#         beta_0 = torch.randn(size=(n_sample, 1))*sd_beta_0 + self.mu_beta_0\n",
    "#         beta_i = torch.randn(size=(n_sample, 1))*sd_beta_i + self.mu_beta_i\n",
    "#         beta_d = torch.randn(size=(n_sample, 1))*sd_beta_d + self.mu_beta_d\n",
    "        \n",
    "#         pen_alpha = torch.distributions.Normal(self.mu_alpha, sd_alpha).log_prob(alpha)\n",
    "#         pen_beta_0 = torch.distributions.Normal(self.mu_beta_0, sd_beta_0).log_prob(beta_0)\n",
    "#         pen_beta_i = torch.distributions.Normal(self.mu_beta_i, sd_beta_i).log_prob(beta_i)\n",
    "#         pen_beta_d = torch.distributions.Normal(self.mu_beta_d, sd_beta_d).log_prob(beta_d)\n",
    "        \n",
    "#         pen = pen_alpha + pen_beta_0 + pen_beta_i + pen_beta_d\n",
    "        \n",
    "#         k = torch.exp(alpha) + eps # alpha in Stan, k/shape in Wikipedia, k/contentration in Torch\n",
    "#         lbda = torch.exp(-(beta_0 + beta_i*i + beta_d*d) / k) # sigma in Stan, lambda/scale in Wikipdedia, scale in Torch\n",
    "        k = self.log_k.exp()  \n",
    "        lbda = self.log_lbda.exp()  \n",
    "        lls = torch.distributions.Weibull(concentration=k, scale=lbda).log_prob(y).sum()  # axis=-1\n",
    "        return - lls # + pen.mean()"
   ]
  },
  {
   "cell_type": "code",
   "execution_count": 92,
   "id": "c988b085",
   "metadata": {
    "pycharm": {
     "name": "#%%\n"
    }
   },
   "outputs": [],
   "source": [
    "class Model(torch.nn.Module):\n",
    "    def __init__(self):\n",
    "        super().__init__()\n",
    "        self.log_k_mu = torch.nn.Parameter(torch.zeros(1))\n",
    "        self.log_k_logvar = torch.nn.Parameter(torch.zeros(1))\n",
    "        \n",
    "        self.log_lbda_mu = torch.nn.Parameter(torch.zeros(1))\n",
    "        self.log_lbda_logvar = torch.nn.Parameter(torch.zeros(1))\n",
    "\n",
    "    def forward(self, i, d, y, n_sample=100):\n",
    "        \n",
    "        log_k_sd = torch.exp(0.5*self.log_k_logvar)\n",
    "        log_lbda_sd = torch.exp(0.5*self.log_lbda_logvar)\n",
    "        \n",
    "        log_k = torch.randn(size=(n_sample, 1))*log_k_sd + self.log_k_mu\n",
    "        log_lbda = torch.randn(size=(n_sample, 1))*log_lbda_sd + self.log_lbda_mu\n",
    "\n",
    "        pen_k = torch.distributions.Normal(self.log_k_mu, log_k_sd).log_prob(log_k)\n",
    "        pen_lbda = torch.distributions.Normal(self.log_lbda_mu, log_lbda_sd).log_prob(log_lbda)\n",
    "        \n",
    "        pen_mean = (pen_k + pen_lbda).mean()\n",
    "        \n",
    "        k = log_k.exp()\n",
    "        lbda = log_lbda.exp()\n",
    "        \n",
    "        lls = torch.distributions.Weibull(concentration=k, scale=lbda).log_prob(y).sum(axis=-1)\n",
    "        print(lls.shape)\n",
    "        mean_lls = lls.mean()\n",
    "        print(mean_lls, pen_mean)\n",
    "        return - mean_lls + pen_mean"
   ]
  },
  {
   "cell_type": "code",
   "execution_count": 93,
   "id": "4fb42f05",
   "metadata": {
    "pycharm": {
     "name": "#%%\n"
    }
   },
   "outputs": [],
   "source": [
    "class Dataset(torch.utils.data.Dataset):\n",
    "\n",
    "    def __init__(self, condition):\n",
    "\n",
    "        self.i, self.d, self.y = self.load_data(condition)\n",
    "\n",
    "    def load_data(self, condition):\n",
    "\n",
    "        df = pd.read_csv(\"data/stan_data_covariates.csv\", index_col=0)\n",
    "        df = df[df.x == condition]\n",
    "        i = torch.tensor(df.i.values, dtype=torch.float)\n",
    "        d = torch.tensor(df.d.values, dtype=torch.float)\n",
    "        y = torch.tensor(df.y.values, dtype=torch.float)\n",
    "\n",
    "        # y = torch.distributions.Weibull()\n",
    "\n",
    "        return i, d, y\n",
    "    \n",
    "    \n",
    "    def __len__(self):\n",
    "        return len(self.y)\n",
    "\n",
    "    def __getitem__(self, idx):\n",
    "        return self.i[idx], self.d[idx], self.y[idx]"
   ]
  },
  {
   "cell_type": "code",
   "execution_count": 94,
   "id": "4b9c5179",
   "metadata": {
    "pycharm": {
     "name": "#%%\n"
    }
   },
   "outputs": [],
   "source": [
    "class FakeDataset(torch.utils.data.Dataset):\n",
    "\n",
    "    def __init__(self, condition):\n",
    "\n",
    "        self.i, self.d, self.y = self.load_data(condition)\n",
    "\n",
    "    def load_data(self, condition):\n",
    "        n = 4000\n",
    "        k=0.90\n",
    "        lbda=1.04\n",
    "        y = torch.distributions.Weibull(concentration=k, scale=lbda).sample((n,))\n",
    "        \n",
    "        i = torch.zeros(n)\n",
    "        d = torch.zeros(n)\n",
    "\n",
    "        return i, d, y\n",
    "    \n",
    "    def __len__(self):\n",
    "        return len(self.y)\n",
    "\n",
    "    def __getitem__(self, idx):\n",
    "        return self.i[idx], self.d[idx], self.y[idx]"
   ]
  },
  {
   "cell_type": "code",
   "execution_count": 95,
   "id": "a52f1355",
   "metadata": {
    "pycharm": {
     "name": "#%%\n"
    }
   },
   "outputs": [
    {
     "name": "stdout",
     "output_type": "stream",
     "text": [
      "n observation 4000\n"
     ]
    },
    {
     "name": "stderr",
     "output_type": "stream",
     "text": [
      "  1%|▉                                                                                           | 1/100 [00:00<00:06, 15.41it/s]"
     ]
    },
    {
     "name": "stdout",
     "output_type": "stream",
     "text": [
      "torch.Size([100])\n",
      "tensor(-4.7050e+10, grad_fn=<MeanBackward0>) tensor(-2.9663, grad_fn=<MeanBackward0>)\n"
     ]
    },
    {
     "name": "stderr",
     "output_type": "stream",
     "text": [
      "\n"
     ]
    },
    {
     "ename": "ValueError",
     "evalue": "Expected parameter loc (Parameter of shape (1,)) of distribution Normal(loc: Parameter containing:\ntensor([nan], requires_grad=True), scale: tensor([nan], grad_fn=<ExpBackward0>)) to satisfy the constraint Real(), but found invalid values:\nParameter containing:\ntensor([nan], requires_grad=True)",
     "output_type": "error",
     "traceback": [
      "\u001B[0;31m---------------------------------------------------------------------------\u001B[0m",
      "\u001B[0;31mValueError\u001B[0m                                Traceback (most recent call last)",
      "Input \u001B[0;32mIn [95]\u001B[0m, in \u001B[0;36m<cell line: 27>\u001B[0;34m()\u001B[0m\n\u001B[1;32m     27\u001B[0m \u001B[38;5;28;01mfor\u001B[39;00m _ \u001B[38;5;129;01min\u001B[39;00m tqdm(\u001B[38;5;28mrange\u001B[39m(n_epochs)):\n\u001B[1;32m     28\u001B[0m     \u001B[38;5;28;01mfor\u001B[39;00m batch, (i, d, y) \u001B[38;5;129;01min\u001B[39;00m \u001B[38;5;28menumerate\u001B[39m(dataloader):\n\u001B[1;32m     29\u001B[0m         \u001B[38;5;66;03m# Compute prediction and loss\u001B[39;00m\n\u001B[0;32m---> 30\u001B[0m         loss \u001B[38;5;241m=\u001B[39m model(i, d, y)\n\u001B[1;32m     32\u001B[0m         \u001B[38;5;66;03m# Backpropagation\u001B[39;00m\n\u001B[1;32m     33\u001B[0m         optimizer\u001B[38;5;241m.\u001B[39mzero_grad()\n",
      "File \u001B[0;32m/opt/homebrew/lib/python3.9/site-packages/torch/nn/modules/module.py:1130\u001B[0m, in \u001B[0;36mModule._call_impl\u001B[0;34m(self, *input, **kwargs)\u001B[0m\n\u001B[1;32m   1126\u001B[0m \u001B[38;5;66;03m# If we don't have any hooks, we want to skip the rest of the logic in\u001B[39;00m\n\u001B[1;32m   1127\u001B[0m \u001B[38;5;66;03m# this function, and just call forward.\u001B[39;00m\n\u001B[1;32m   1128\u001B[0m \u001B[38;5;28;01mif\u001B[39;00m \u001B[38;5;129;01mnot\u001B[39;00m (\u001B[38;5;28mself\u001B[39m\u001B[38;5;241m.\u001B[39m_backward_hooks \u001B[38;5;129;01mor\u001B[39;00m \u001B[38;5;28mself\u001B[39m\u001B[38;5;241m.\u001B[39m_forward_hooks \u001B[38;5;129;01mor\u001B[39;00m \u001B[38;5;28mself\u001B[39m\u001B[38;5;241m.\u001B[39m_forward_pre_hooks \u001B[38;5;129;01mor\u001B[39;00m _global_backward_hooks\n\u001B[1;32m   1129\u001B[0m         \u001B[38;5;129;01mor\u001B[39;00m _global_forward_hooks \u001B[38;5;129;01mor\u001B[39;00m _global_forward_pre_hooks):\n\u001B[0;32m-> 1130\u001B[0m     \u001B[38;5;28;01mreturn\u001B[39;00m \u001B[43mforward_call\u001B[49m\u001B[43m(\u001B[49m\u001B[38;5;241;43m*\u001B[39;49m\u001B[38;5;28;43minput\u001B[39;49m\u001B[43m,\u001B[49m\u001B[43m \u001B[49m\u001B[38;5;241;43m*\u001B[39;49m\u001B[38;5;241;43m*\u001B[39;49m\u001B[43mkwargs\u001B[49m\u001B[43m)\u001B[49m\n\u001B[1;32m   1131\u001B[0m \u001B[38;5;66;03m# Do not call functions when jit is used\u001B[39;00m\n\u001B[1;32m   1132\u001B[0m full_backward_hooks, non_full_backward_hooks \u001B[38;5;241m=\u001B[39m [], []\n",
      "Input \u001B[0;32mIn [92]\u001B[0m, in \u001B[0;36mModel.forward\u001B[0;34m(self, i, d, y, n_sample)\u001B[0m\n\u001B[1;32m     17\u001B[0m log_k \u001B[38;5;241m=\u001B[39m torch\u001B[38;5;241m.\u001B[39mrandn(size\u001B[38;5;241m=\u001B[39m(n_sample, \u001B[38;5;241m1\u001B[39m))\u001B[38;5;241m*\u001B[39mlog_k_sd \u001B[38;5;241m+\u001B[39m \u001B[38;5;28mself\u001B[39m\u001B[38;5;241m.\u001B[39mlog_k_mu\n\u001B[1;32m     18\u001B[0m log_lbda \u001B[38;5;241m=\u001B[39m torch\u001B[38;5;241m.\u001B[39mrandn(size\u001B[38;5;241m=\u001B[39m(n_sample, \u001B[38;5;241m1\u001B[39m))\u001B[38;5;241m*\u001B[39mlog_lbda_sd \u001B[38;5;241m+\u001B[39m \u001B[38;5;28mself\u001B[39m\u001B[38;5;241m.\u001B[39mlog_lbda_mu\n\u001B[0;32m---> 20\u001B[0m pen_k \u001B[38;5;241m=\u001B[39m \u001B[43mtorch\u001B[49m\u001B[38;5;241;43m.\u001B[39;49m\u001B[43mdistributions\u001B[49m\u001B[38;5;241;43m.\u001B[39;49m\u001B[43mNormal\u001B[49m\u001B[43m(\u001B[49m\u001B[38;5;28;43mself\u001B[39;49m\u001B[38;5;241;43m.\u001B[39;49m\u001B[43mlog_k_mu\u001B[49m\u001B[43m,\u001B[49m\u001B[43m \u001B[49m\u001B[43mlog_k_sd\u001B[49m\u001B[43m)\u001B[49m\u001B[38;5;241m.\u001B[39mlog_prob(log_k)\n\u001B[1;32m     21\u001B[0m pen_lbda \u001B[38;5;241m=\u001B[39m torch\u001B[38;5;241m.\u001B[39mdistributions\u001B[38;5;241m.\u001B[39mNormal(\u001B[38;5;28mself\u001B[39m\u001B[38;5;241m.\u001B[39mlog_lbda_mu, log_lbda_sd)\u001B[38;5;241m.\u001B[39mlog_prob(log_lbda)\n\u001B[1;32m     23\u001B[0m pen_mean \u001B[38;5;241m=\u001B[39m (pen_k \u001B[38;5;241m+\u001B[39m pen_lbda)\u001B[38;5;241m.\u001B[39mmean()\n",
      "File \u001B[0;32m/opt/homebrew/lib/python3.9/site-packages/torch/distributions/normal.py:54\u001B[0m, in \u001B[0;36mNormal.__init__\u001B[0;34m(self, loc, scale, validate_args)\u001B[0m\n\u001B[1;32m     52\u001B[0m \u001B[38;5;28;01melse\u001B[39;00m:\n\u001B[1;32m     53\u001B[0m     batch_shape \u001B[38;5;241m=\u001B[39m \u001B[38;5;28mself\u001B[39m\u001B[38;5;241m.\u001B[39mloc\u001B[38;5;241m.\u001B[39msize()\n\u001B[0;32m---> 54\u001B[0m \u001B[38;5;28;43msuper\u001B[39;49m\u001B[43m(\u001B[49m\u001B[43mNormal\u001B[49m\u001B[43m,\u001B[49m\u001B[43m \u001B[49m\u001B[38;5;28;43mself\u001B[39;49m\u001B[43m)\u001B[49m\u001B[38;5;241;43m.\u001B[39;49m\u001B[38;5;21;43m__init__\u001B[39;49m\u001B[43m(\u001B[49m\u001B[43mbatch_shape\u001B[49m\u001B[43m,\u001B[49m\u001B[43m \u001B[49m\u001B[43mvalidate_args\u001B[49m\u001B[38;5;241;43m=\u001B[39;49m\u001B[43mvalidate_args\u001B[49m\u001B[43m)\u001B[49m\n",
      "File \u001B[0;32m/opt/homebrew/lib/python3.9/site-packages/torch/distributions/distribution.py:55\u001B[0m, in \u001B[0;36mDistribution.__init__\u001B[0;34m(self, batch_shape, event_shape, validate_args)\u001B[0m\n\u001B[1;32m     53\u001B[0m         valid \u001B[38;5;241m=\u001B[39m constraint\u001B[38;5;241m.\u001B[39mcheck(value)\n\u001B[1;32m     54\u001B[0m         \u001B[38;5;28;01mif\u001B[39;00m \u001B[38;5;129;01mnot\u001B[39;00m valid\u001B[38;5;241m.\u001B[39mall():\n\u001B[0;32m---> 55\u001B[0m             \u001B[38;5;28;01mraise\u001B[39;00m \u001B[38;5;167;01mValueError\u001B[39;00m(\n\u001B[1;32m     56\u001B[0m                 \u001B[38;5;124mf\u001B[39m\u001B[38;5;124m\"\u001B[39m\u001B[38;5;124mExpected parameter \u001B[39m\u001B[38;5;132;01m{\u001B[39;00mparam\u001B[38;5;132;01m}\u001B[39;00m\u001B[38;5;124m \u001B[39m\u001B[38;5;124m\"\u001B[39m\n\u001B[1;32m     57\u001B[0m                 \u001B[38;5;124mf\u001B[39m\u001B[38;5;124m\"\u001B[39m\u001B[38;5;124m(\u001B[39m\u001B[38;5;132;01m{\u001B[39;00m\u001B[38;5;28mtype\u001B[39m(value)\u001B[38;5;241m.\u001B[39m\u001B[38;5;18m__name__\u001B[39m\u001B[38;5;132;01m}\u001B[39;00m\u001B[38;5;124m of shape \u001B[39m\u001B[38;5;132;01m{\u001B[39;00m\u001B[38;5;28mtuple\u001B[39m(value\u001B[38;5;241m.\u001B[39mshape)\u001B[38;5;132;01m}\u001B[39;00m\u001B[38;5;124m) \u001B[39m\u001B[38;5;124m\"\u001B[39m\n\u001B[1;32m     58\u001B[0m                 \u001B[38;5;124mf\u001B[39m\u001B[38;5;124m\"\u001B[39m\u001B[38;5;124mof distribution \u001B[39m\u001B[38;5;132;01m{\u001B[39;00m\u001B[38;5;28mrepr\u001B[39m(\u001B[38;5;28mself\u001B[39m)\u001B[38;5;132;01m}\u001B[39;00m\u001B[38;5;124m \u001B[39m\u001B[38;5;124m\"\u001B[39m\n\u001B[1;32m     59\u001B[0m                 \u001B[38;5;124mf\u001B[39m\u001B[38;5;124m\"\u001B[39m\u001B[38;5;124mto satisfy the constraint \u001B[39m\u001B[38;5;132;01m{\u001B[39;00m\u001B[38;5;28mrepr\u001B[39m(constraint)\u001B[38;5;132;01m}\u001B[39;00m\u001B[38;5;124m, \u001B[39m\u001B[38;5;124m\"\u001B[39m\n\u001B[1;32m     60\u001B[0m                 \u001B[38;5;124mf\u001B[39m\u001B[38;5;124m\"\u001B[39m\u001B[38;5;124mbut found invalid values:\u001B[39m\u001B[38;5;130;01m\\n\u001B[39;00m\u001B[38;5;132;01m{\u001B[39;00mvalue\u001B[38;5;132;01m}\u001B[39;00m\u001B[38;5;124m\"\u001B[39m\n\u001B[1;32m     61\u001B[0m             )\n\u001B[1;32m     62\u001B[0m \u001B[38;5;28msuper\u001B[39m(Distribution, \u001B[38;5;28mself\u001B[39m)\u001B[38;5;241m.\u001B[39m\u001B[38;5;21m__init__\u001B[39m()\n",
      "\u001B[0;31mValueError\u001B[0m: Expected parameter loc (Parameter of shape (1,)) of distribution Normal(loc: Parameter containing:\ntensor([nan], requires_grad=True), scale: tensor([nan], grad_fn=<ExpBackward0>)) to satisfy the constraint Real(), but found invalid values:\nParameter containing:\ntensor([nan], requires_grad=True)"
     ]
    }
   ],
   "source": [
    "torch.manual_seed(123)\n",
    "\n",
    "data = FakeDataset(condition=1)\n",
    "\n",
    "n_obs = len(data)\n",
    "print(\"n observation\", n_obs)\n",
    "\n",
    "# n_training = int(0.80*n_obs)\n",
    "# n_val = n_obs - n_training\n",
    "# training_data, val_data = torch.utils.data.random_split(data, [n_training, n_val])\n",
    "\n",
    "model = Model()\n",
    "\n",
    "dataloader = torch.utils.data.DataLoader(data, batch_size=len(data))\n",
    "# val_dataloader = torch.utils.data.DataLoader(val_data, batch_size=len(val_data))\n",
    "\n",
    "# for batch, (X, y) in enumerate(val_dataloader):\n",
    "\n",
    "#     pred = model(X)[:, 0]\n",
    "#     print(f\"Average abs error validation: {(pred - y).abs().mean():.2f}\")\n",
    "\n",
    "optimizer = torch.optim.Adam(lr=0.01, params=model.parameters())\n",
    "\n",
    "n_epochs = 100\n",
    "hist_loss = []\n",
    "\n",
    "for _ in tqdm(range(n_epochs)):\n",
    "    for batch, (i, d, y) in enumerate(dataloader):\n",
    "        # Compute prediction and loss\n",
    "        loss = model(i, d, y)\n",
    "\n",
    "        # Backpropagation\n",
    "        optimizer.zero_grad()\n",
    "        loss.backward()\n",
    "        optimizer.step()\n",
    "\n",
    "        hist_loss.append(loss.item())\n",
    "\n",
    "# for batch, (X, y) in enumerate(dataloader):\n",
    "#     pred = model(X)[:, 0]\n",
    "#     unscaled_pred = data.unnormalize(pred, **data.y_kwargs_transform)\n",
    "#     unscaled_y = data.unnormalize(y, **data.y_kwargs_transform)\n",
    "#     print(torch.abs(unscaled_y - unscaled_pred))\n",
    "\n",
    "# for batch, (X, y) in enumerate(val_dataloader):\n",
    "#     pred = model(X)[:, 0]\n",
    "\n",
    "#     unscaled_pred = data.unnormalize(pred, **data.y_kwargs_transform)\n",
    "#     unscaled_y = data.unnormalize(y, **data.y_kwargs_transform)\n",
    "\n",
    "#     print(f\"Average abs error validation: {(unscaled_pred - unscaled_y).abs().mean():.2f}\")\n",
    "\n",
    "# os.makedirs(\"fig\", exist_ok=True)\n",
    "fig, ax = plt.subplots()\n",
    "ax.set_title(\"loss\")\n",
    "ax.plot(hist_loss)\n",
    "# plt.savefig(f\"fig/hist_loss.pdf\")"
   ]
  },
  {
   "cell_type": "code",
   "execution_count": 73,
   "id": "46297154",
   "metadata": {
    "pycharm": {
     "name": "#%%\n"
    }
   },
   "outputs": [],
   "source": [
    "if isinstance(model, SimpleModel):\n",
    "    print(f\"k={model.log_k.exp().item():.2f} - lbda={model.log_lbda.exp().item():.2f}\")"
   ]
  },
  {
   "cell_type": "code",
   "execution_count": 74,
   "id": "8b30363a",
   "metadata": {
    "pycharm": {
     "name": "#%%\n"
    }
   },
   "outputs": [
    {
     "name": "stdout",
     "output_type": "stream",
     "text": [
      "k=0.91 - lbda=1.05\n"
     ]
    }
   ],
   "source": [
    "print(f\"k={model.log_k_mu.exp().item():.2f} - lbda={model.log_lbda_mu.exp().item():.2f}\")"
   ]
  },
  {
   "cell_type": "code",
   "execution_count": null,
   "id": "1614bd29",
   "metadata": {
    "pycharm": {
     "name": "#%%\n"
    }
   },
   "outputs": [],
   "source": []
  }
 ],
 "metadata": {
  "kernelspec": {
   "display_name": "Python 3 (ipykernel)",
   "language": "python",
   "name": "python3"
  },
  "language_info": {
   "codemirror_mode": {
    "name": "ipython",
    "version": 3
   },
   "file_extension": ".py",
   "mimetype": "text/x-python",
   "name": "python",
   "nbconvert_exporter": "python",
   "pygments_lexer": "ipython3",
   "version": "3.9.13"
  },
  "toc": {
   "base_numbering": 1,
   "nav_menu": {},
   "number_sections": true,
   "sideBar": true,
   "skip_h1_title": false,
   "title_cell": "Table of Contents",
   "title_sidebar": "Contents",
   "toc_cell": false,
   "toc_position": {},
   "toc_section_display": true,
   "toc_window_display": false
  }
 },
 "nbformat": 4,
 "nbformat_minor": 5
}